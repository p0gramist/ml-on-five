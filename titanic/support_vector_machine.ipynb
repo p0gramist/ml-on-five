{
 "cells": [
  {
   "cell_type": "markdown",
   "id": "90091613",
   "metadata": {},
   "source": [
    "# 1. Импорты"
   ]
  },
  {
   "cell_type": "code",
   "execution_count": 2,
   "id": "49431620",
   "metadata": {},
   "outputs": [],
   "source": [
    "import random\n",
    "import pickle\n",
    "import numpy as np\n",
    "import pandas as pd\n",
    "import matplotlib.pyplot as plt"
   ]
  },
  {
   "cell_type": "code",
   "execution_count": 7,
   "id": "5761a6f0",
   "metadata": {},
   "outputs": [],
   "source": [
    "from sklearn.base import BaseEstimator, TransformerMixin\n",
    "\n",
    "from sklearn.impute import SimpleImputer\n",
    "\n",
    "from sklearn.preprocessing import StandardScaler, OrdinalEncoder\n",
    "\n",
    "from sklearn.model_selection import GridSearchCV, train_test_split, cross_val_score\n",
    "from sklearn.pipeline import Pipeline\n",
    "\n",
    "from sklearn.svm import LinearSVC\n",
    "\n",
    "from sklearn.metrics import roc_auc_score, roc_curve"
   ]
  },
  {
   "cell_type": "markdown",
   "id": "cb0b3c2d",
   "metadata": {},
   "source": [
    "# 2. Обучение"
   ]
  },
  {
   "cell_type": "code",
   "execution_count": 4,
   "id": "ab35d089",
   "metadata": {},
   "outputs": [
    {
     "data": {
      "text/html": [
       "<div>\n",
       "<style scoped>\n",
       "    .dataframe tbody tr th:only-of-type {\n",
       "        vertical-align: middle;\n",
       "    }\n",
       "\n",
       "    .dataframe tbody tr th {\n",
       "        vertical-align: top;\n",
       "    }\n",
       "\n",
       "    .dataframe thead th {\n",
       "        text-align: right;\n",
       "    }\n",
       "</style>\n",
       "<table border=\"1\" class=\"dataframe\">\n",
       "  <thead>\n",
       "    <tr style=\"text-align: right;\">\n",
       "      <th></th>\n",
       "      <th>Pclass</th>\n",
       "      <th>Sex</th>\n",
       "      <th>Age</th>\n",
       "      <th>SibSp</th>\n",
       "      <th>Parch</th>\n",
       "      <th>Fare</th>\n",
       "      <th>Cabin</th>\n",
       "      <th>Embarked</th>\n",
       "    </tr>\n",
       "  </thead>\n",
       "  <tbody>\n",
       "    <tr>\n",
       "      <th>0</th>\n",
       "      <td>3</td>\n",
       "      <td>male</td>\n",
       "      <td>22.0</td>\n",
       "      <td>1</td>\n",
       "      <td>0</td>\n",
       "      <td>7.2500</td>\n",
       "      <td>NaN</td>\n",
       "      <td>S</td>\n",
       "    </tr>\n",
       "    <tr>\n",
       "      <th>1</th>\n",
       "      <td>1</td>\n",
       "      <td>female</td>\n",
       "      <td>38.0</td>\n",
       "      <td>1</td>\n",
       "      <td>0</td>\n",
       "      <td>71.2833</td>\n",
       "      <td>C85</td>\n",
       "      <td>C</td>\n",
       "    </tr>\n",
       "    <tr>\n",
       "      <th>2</th>\n",
       "      <td>3</td>\n",
       "      <td>female</td>\n",
       "      <td>26.0</td>\n",
       "      <td>0</td>\n",
       "      <td>0</td>\n",
       "      <td>7.9250</td>\n",
       "      <td>NaN</td>\n",
       "      <td>S</td>\n",
       "    </tr>\n",
       "    <tr>\n",
       "      <th>3</th>\n",
       "      <td>1</td>\n",
       "      <td>female</td>\n",
       "      <td>35.0</td>\n",
       "      <td>1</td>\n",
       "      <td>0</td>\n",
       "      <td>53.1000</td>\n",
       "      <td>C123</td>\n",
       "      <td>S</td>\n",
       "    </tr>\n",
       "    <tr>\n",
       "      <th>4</th>\n",
       "      <td>3</td>\n",
       "      <td>male</td>\n",
       "      <td>35.0</td>\n",
       "      <td>0</td>\n",
       "      <td>0</td>\n",
       "      <td>8.0500</td>\n",
       "      <td>NaN</td>\n",
       "      <td>S</td>\n",
       "    </tr>\n",
       "    <tr>\n",
       "      <th>...</th>\n",
       "      <td>...</td>\n",
       "      <td>...</td>\n",
       "      <td>...</td>\n",
       "      <td>...</td>\n",
       "      <td>...</td>\n",
       "      <td>...</td>\n",
       "      <td>...</td>\n",
       "      <td>...</td>\n",
       "    </tr>\n",
       "    <tr>\n",
       "      <th>886</th>\n",
       "      <td>2</td>\n",
       "      <td>male</td>\n",
       "      <td>27.0</td>\n",
       "      <td>0</td>\n",
       "      <td>0</td>\n",
       "      <td>13.0000</td>\n",
       "      <td>NaN</td>\n",
       "      <td>S</td>\n",
       "    </tr>\n",
       "    <tr>\n",
       "      <th>887</th>\n",
       "      <td>1</td>\n",
       "      <td>female</td>\n",
       "      <td>19.0</td>\n",
       "      <td>0</td>\n",
       "      <td>0</td>\n",
       "      <td>30.0000</td>\n",
       "      <td>B42</td>\n",
       "      <td>S</td>\n",
       "    </tr>\n",
       "    <tr>\n",
       "      <th>888</th>\n",
       "      <td>3</td>\n",
       "      <td>female</td>\n",
       "      <td>NaN</td>\n",
       "      <td>1</td>\n",
       "      <td>2</td>\n",
       "      <td>23.4500</td>\n",
       "      <td>NaN</td>\n",
       "      <td>S</td>\n",
       "    </tr>\n",
       "    <tr>\n",
       "      <th>889</th>\n",
       "      <td>1</td>\n",
       "      <td>male</td>\n",
       "      <td>26.0</td>\n",
       "      <td>0</td>\n",
       "      <td>0</td>\n",
       "      <td>30.0000</td>\n",
       "      <td>C148</td>\n",
       "      <td>C</td>\n",
       "    </tr>\n",
       "    <tr>\n",
       "      <th>890</th>\n",
       "      <td>3</td>\n",
       "      <td>male</td>\n",
       "      <td>32.0</td>\n",
       "      <td>0</td>\n",
       "      <td>0</td>\n",
       "      <td>7.7500</td>\n",
       "      <td>NaN</td>\n",
       "      <td>Q</td>\n",
       "    </tr>\n",
       "  </tbody>\n",
       "</table>\n",
       "<p>891 rows × 8 columns</p>\n",
       "</div>"
      ],
      "text/plain": [
       "     Pclass     Sex   Age  SibSp  Parch     Fare Cabin Embarked\n",
       "0         3    male  22.0      1      0   7.2500   NaN        S\n",
       "1         1  female  38.0      1      0  71.2833   C85        C\n",
       "2         3  female  26.0      0      0   7.9250   NaN        S\n",
       "3         1  female  35.0      1      0  53.1000  C123        S\n",
       "4         3    male  35.0      0      0   8.0500   NaN        S\n",
       "..      ...     ...   ...    ...    ...      ...   ...      ...\n",
       "886       2    male  27.0      0      0  13.0000   NaN        S\n",
       "887       1  female  19.0      0      0  30.0000   B42        S\n",
       "888       3  female   NaN      1      2  23.4500   NaN        S\n",
       "889       1    male  26.0      0      0  30.0000  C148        C\n",
       "890       3    male  32.0      0      0   7.7500   NaN        Q\n",
       "\n",
       "[891 rows x 8 columns]"
      ]
     },
     "execution_count": 4,
     "metadata": {},
     "output_type": "execute_result"
    }
   ],
   "source": [
    "train = pd.read_csv(\"train.csv\")\n",
    "\n",
    "y = train[\"Survived\"]\n",
    "X = train.drop(columns=[\"PassengerId\", \"Survived\", \"Name\", \"Ticket\"])\n",
    "X"
   ]
  },
  {
   "cell_type": "code",
   "execution_count": 5,
   "id": "df881731",
   "metadata": {},
   "outputs": [],
   "source": [
    "class AgeTransformer(BaseEstimator, TransformerMixin):\n",
    "    def __init__(self, step_of_partitions=10, mode=\"r\"):\n",
    "        self.mode = mode\n",
    "        self.step_of_partitions = step_of_partitions\n",
    "    \n",
    "    def fit(self, X, y=None):\n",
    "        return self\n",
    "    \n",
    "    def transform(self, X, y=None):\n",
    "        X_copy = X.copy()\n",
    "        \n",
    "        ages = [x for x in range(self.step_of_partitions, int(X_copy.Age.max())+self.step_of_partitions, self.step_of_partitions)]\n",
    "        for step in ages:\n",
    "            X_copy.Age.mask(((X_copy.Age > step-self.step_of_partitions) & (X_copy.Age <= step)), step, inplace=True)\n",
    "        \n",
    "        if self.mode == \"r\":\n",
    "            X_copy.loc[:, 'Age'] = X_copy.Age.apply(lambda x: random.choice(ages) if np.isnan(x) else x)\n",
    "\n",
    "        if self.mode == \"s\":\n",
    "            counts = X_copy.Age.value_counts(normalize=True).round(3).sort_index()\n",
    "            \n",
    "            ages = counts.index.values\n",
    "            weights = counts.values\n",
    "            \n",
    "            X_copy.loc[:, 'Age'] = X_copy.Age.apply(lambda x: random.choices(ages, weights, k=1)[0] if np.isnan(x) else x)\n",
    "\n",
    "        X_copy.Age /= 10\n",
    "        return X_copy"
   ]
  },
  {
   "cell_type": "code",
   "execution_count": 8,
   "id": "bc129ccb",
   "metadata": {},
   "outputs": [],
   "source": [
    "class CabinTransformer(BaseEstimator, TransformerMixin):\n",
    "    def __init__(self, mode=\"r\"):\n",
    "        self.mode = mode\n",
    "    \n",
    "    def fit(self, X, y=None):\n",
    "        return self\n",
    "    \n",
    "    def transform(self, X, y=None):\n",
    "        X_copy = X.copy()\n",
    "        \n",
    "        X_copy.Cabin = X_copy.Cabin.apply(lambda x: x if pd.isnull(x) else x[0])\n",
    "        \n",
    "        if self.mode == \"r\":\n",
    "            cabins = X_copy.Cabin.unique()\n",
    "            X_copy.loc[:, 'Cabin'] = X_copy.Cabin.apply(lambda x: random.choice(cabins) if pd.isnull(x) else x)\n",
    "\n",
    "        if self.mode == \"s\":\n",
    "            counts = X_copy.Cabin.value_counts(normalize=True).round(3).sort_index()\n",
    "            \n",
    "            cabins = counts.index.values\n",
    "            weights = counts.values\n",
    "            \n",
    "            X_copy.loc[:, 'Cabin'] = X_copy.Cabin.apply(lambda x: random.choices(cabins, weights, k=1)[0] if pd.isnull(x) else x)\n",
    "        \n",
    "        X_copy.Cabin, self.uniques = pd.factorize(X_copy.Cabin)\n",
    "        \n",
    "        return X_copy"
   ]
  },
  {
   "cell_type": "code",
   "execution_count": 9,
   "id": "acba7000",
   "metadata": {},
   "outputs": [],
   "source": [
    "estimators = [\n",
    "    (\"age-transformer\", AgeTransformer(step_of_partitions=10, mode=\"s\")),\n",
    "    (\"cabin-transformer\", CabinTransformer(mode=\"s\")),\n",
    "    (\"imputer\", SimpleImputer(strategy=\"most_frequent\")),\n",
    "    (\"encoder\", OrdinalEncoder()),\n",
    "    (\"scaler\", StandardScaler())    \n",
    "]"
   ]
  },
  {
   "cell_type": "code",
   "execution_count": 11,
   "id": "b478ece7",
   "metadata": {},
   "outputs": [],
   "source": [
    "preprocessing = Pipeline(estimators)\n",
    "X_ = preprocessing.fit_transform(X)\n",
    "\n",
    "X_train, X_test, y_train, y_test = train_test_split(X_, y, test_size=0.20, random_state=42)"
   ]
  },
  {
   "cell_type": "code",
   "execution_count": 13,
   "id": "ede6c7fa",
   "metadata": {},
   "outputs": [],
   "source": [
    "model = LinearSVC(random_state=42)"
   ]
  },
  {
   "cell_type": "code",
   "execution_count": 14,
   "id": "b107e47e",
   "metadata": {},
   "outputs": [
    {
     "data": {
      "text/plain": [
       "0.7771557271557272"
      ]
     },
     "execution_count": 14,
     "metadata": {},
     "output_type": "execute_result"
    }
   ],
   "source": [
    "model.fit(X_train, y_train)\n",
    "roc_auc_score(y_test, model.predict(X_test))"
   ]
  },
  {
   "cell_type": "markdown",
   "id": "72d18ea5",
   "metadata": {},
   "source": [
    "## 2.1. Решётчатый поиск с перекрёстной проверкой"
   ]
  },
  {
   "cell_type": "code",
   "execution_count": 28,
   "id": "a9a1f940",
   "metadata": {},
   "outputs": [
    {
     "name": "stdout",
     "output_type": "stream",
     "text": [
      "Best params is `{'C': 0.01, 'loss': 'squared_hinge', 'max_iter': 10000}` with ROC-AUC score: 0.8413306138306138\n",
      "CPU times: user 763 ms, sys: 69 µs, total: 763 ms\n",
      "Wall time: 763 ms\n"
     ]
    }
   ],
   "source": [
    "%%time\n",
    "parameters = {\n",
    "    \"loss\": [\"squared_hinge\"],\n",
    "    \"C\": [0.00001, 0.0001, 0.001, 0.01],\n",
    "    \"max_iter\": [_ for _ in range(10000, 20000, 1000)]\n",
    "}\n",
    "\n",
    "grid = GridSearchCV(model, parameters, cv=10, scoring=\"roc_auc\", error_score=\"raise\")\n",
    "grid.fit(X_train, y_train)\n",
    "\n",
    "print(f\"Best params is `{grid.best_params_}` with ROC-AUC score: {grid.best_score_}\", end=\"\\n\")"
   ]
  },
  {
   "cell_type": "code",
   "execution_count": 29,
   "id": "4daba9c6",
   "metadata": {},
   "outputs": [],
   "source": [
    "model = grid.best_estimator_"
   ]
  },
  {
   "cell_type": "markdown",
   "id": "8ca5ff8b",
   "metadata": {},
   "source": [
    "## 2.2. Анализ перекрёстной проверки"
   ]
  },
  {
   "cell_type": "code",
   "execution_count": 30,
   "id": "ca47899d",
   "metadata": {},
   "outputs": [
    {
     "name": "stdout",
     "output_type": "stream",
     "text": [
      "ROC-AUC Score is 0.7676319176319175\n"
     ]
    },
    {
     "data": {
      "image/png": "[encoded data removed]",
      "text/plain": [
       "<Figure size 640x480 with 1 Axes>"
      ]
     },
     "metadata": {},
     "output_type": "display_data"
    }
   ],
   "source": [
    "y_pred = model.predict(X_test)\n",
    "fpr, tpr, thresholds = roc_curve(y_test, model.decision_function(X_test))\n",
    "\n",
    "plt.plot(fpr, tpr)\n",
    "plt.title(\"ROC Кривая\")\n",
    "plt.xlabel(\"Доля ложноположительных классификаций\")\n",
    "plt.ylabel(\"Доля истинно положительных классификаций\")\n",
    "\n",
    "print(f\"ROC-AUC Score is {roc_auc_score(y_test, y_pred)}\")"
   ]
  },
  {
   "cell_type": "markdown",
   "id": "f8e440d4",
   "metadata": {},
   "source": [
    "# 3. Проверка"
   ]
  },
  {
   "cell_type": "code",
   "execution_count": 31,
   "id": "2ccd2c62",
   "metadata": {},
   "outputs": [
    {
     "data": {
      "text/html": [
       "<div>\n",
       "<style scoped>\n",
       "    .dataframe tbody tr th:only-of-type {\n",
       "        vertical-align: middle;\n",
       "    }\n",
       "\n",
       "    .dataframe tbody tr th {\n",
       "        vertical-align: top;\n",
       "    }\n",
       "\n",
       "    .dataframe thead th {\n",
       "        text-align: right;\n",
       "    }\n",
       "</style>\n",
       "<table border=\"1\" class=\"dataframe\">\n",
       "  <thead>\n",
       "    <tr style=\"text-align: right;\">\n",
       "      <th></th>\n",
       "      <th>Pclass</th>\n",
       "      <th>Name</th>\n",
       "      <th>Sex</th>\n",
       "      <th>Age</th>\n",
       "      <th>SibSp</th>\n",
       "      <th>Parch</th>\n",
       "      <th>Ticket</th>\n",
       "      <th>Fare</th>\n",
       "      <th>Cabin</th>\n",
       "      <th>Embarked</th>\n",
       "    </tr>\n",
       "  </thead>\n",
       "  <tbody>\n",
       "    <tr>\n",
       "      <th>0</th>\n",
       "      <td>3</td>\n",
       "      <td>Kelly, Mr. James</td>\n",
       "      <td>male</td>\n",
       "      <td>34.5</td>\n",
       "      <td>0</td>\n",
       "      <td>0</td>\n",
       "      <td>330911</td>\n",
       "      <td>7.8292</td>\n",
       "      <td>NaN</td>\n",
       "      <td>Q</td>\n",
       "    </tr>\n",
       "    <tr>\n",
       "      <th>1</th>\n",
       "      <td>3</td>\n",
       "      <td>Wilkes, Mrs. James (Ellen Needs)</td>\n",
       "      <td>female</td>\n",
       "      <td>47.0</td>\n",
       "      <td>1</td>\n",
       "      <td>0</td>\n",
       "      <td>363272</td>\n",
       "      <td>7.0000</td>\n",
       "      <td>NaN</td>\n",
       "      <td>S</td>\n",
       "    </tr>\n",
       "    <tr>\n",
       "      <th>2</th>\n",
       "      <td>2</td>\n",
       "      <td>Myles, Mr. Thomas Francis</td>\n",
       "      <td>male</td>\n",
       "      <td>62.0</td>\n",
       "      <td>0</td>\n",
       "      <td>0</td>\n",
       "      <td>240276</td>\n",
       "      <td>9.6875</td>\n",
       "      <td>NaN</td>\n",
       "      <td>Q</td>\n",
       "    </tr>\n",
       "    <tr>\n",
       "      <th>3</th>\n",
       "      <td>3</td>\n",
       "      <td>Wirz, Mr. Albert</td>\n",
       "      <td>male</td>\n",
       "      <td>27.0</td>\n",
       "      <td>0</td>\n",
       "      <td>0</td>\n",
       "      <td>315154</td>\n",
       "      <td>8.6625</td>\n",
       "      <td>NaN</td>\n",
       "      <td>S</td>\n",
       "    </tr>\n",
       "    <tr>\n",
       "      <th>4</th>\n",
       "      <td>3</td>\n",
       "      <td>Hirvonen, Mrs. Alexander (Helga E Lindqvist)</td>\n",
       "      <td>female</td>\n",
       "      <td>22.0</td>\n",
       "      <td>1</td>\n",
       "      <td>1</td>\n",
       "      <td>3101298</td>\n",
       "      <td>12.2875</td>\n",
       "      <td>NaN</td>\n",
       "      <td>S</td>\n",
       "    </tr>\n",
       "    <tr>\n",
       "      <th>5</th>\n",
       "      <td>3</td>\n",
       "      <td>Svensson, Mr. Johan Cervin</td>\n",
       "      <td>male</td>\n",
       "      <td>14.0</td>\n",
       "      <td>0</td>\n",
       "      <td>0</td>\n",
       "      <td>7538</td>\n",
       "      <td>9.2250</td>\n",
       "      <td>NaN</td>\n",
       "      <td>S</td>\n",
       "    </tr>\n",
       "    <tr>\n",
       "      <th>6</th>\n",
       "      <td>3</td>\n",
       "      <td>Connolly, Miss. Kate</td>\n",
       "      <td>female</td>\n",
       "      <td>30.0</td>\n",
       "      <td>0</td>\n",
       "      <td>0</td>\n",
       "      <td>330972</td>\n",
       "      <td>7.6292</td>\n",
       "      <td>NaN</td>\n",
       "      <td>Q</td>\n",
       "    </tr>\n",
       "    <tr>\n",
       "      <th>7</th>\n",
       "      <td>2</td>\n",
       "      <td>Caldwell, Mr. Albert Francis</td>\n",
       "      <td>male</td>\n",
       "      <td>26.0</td>\n",
       "      <td>1</td>\n",
       "      <td>1</td>\n",
       "      <td>248738</td>\n",
       "      <td>29.0000</td>\n",
       "      <td>NaN</td>\n",
       "      <td>S</td>\n",
       "    </tr>\n",
       "    <tr>\n",
       "      <th>8</th>\n",
       "      <td>3</td>\n",
       "      <td>Abrahim, Mrs. Joseph (Sophie Halaut Easu)</td>\n",
       "      <td>female</td>\n",
       "      <td>18.0</td>\n",
       "      <td>0</td>\n",
       "      <td>0</td>\n",
       "      <td>2657</td>\n",
       "      <td>7.2292</td>\n",
       "      <td>NaN</td>\n",
       "      <td>C</td>\n",
       "    </tr>\n",
       "    <tr>\n",
       "      <th>9</th>\n",
       "      <td>3</td>\n",
       "      <td>Davies, Mr. John Samuel</td>\n",
       "      <td>male</td>\n",
       "      <td>21.0</td>\n",
       "      <td>2</td>\n",
       "      <td>0</td>\n",
       "      <td>A/4 48871</td>\n",
       "      <td>24.1500</td>\n",
       "      <td>NaN</td>\n",
       "      <td>S</td>\n",
       "    </tr>\n",
       "  </tbody>\n",
       "</table>\n",
       "</div>"
      ],
      "text/plain": [
       "   Pclass                                          Name     Sex   Age  SibSp  \\\n",
       "0       3                              Kelly, Mr. James    male  34.5      0   \n",
       "1       3              Wilkes, Mrs. James (Ellen Needs)  female  47.0      1   \n",
       "2       2                     Myles, Mr. Thomas Francis    male  62.0      0   \n",
       "3       3                              Wirz, Mr. Albert    male  27.0      0   \n",
       "4       3  Hirvonen, Mrs. Alexander (Helga E Lindqvist)  female  22.0      1   \n",
       "5       3                    Svensson, Mr. Johan Cervin    male  14.0      0   \n",
       "6       3                          Connolly, Miss. Kate  female  30.0      0   \n",
       "7       2                  Caldwell, Mr. Albert Francis    male  26.0      1   \n",
       "8       3     Abrahim, Mrs. Joseph (Sophie Halaut Easu)  female  18.0      0   \n",
       "9       3                       Davies, Mr. John Samuel    male  21.0      2   \n",
       "\n",
       "   Parch     Ticket     Fare Cabin Embarked  \n",
       "0      0     330911   7.8292   NaN        Q  \n",
       "1      0     363272   7.0000   NaN        S  \n",
       "2      0     240276   9.6875   NaN        Q  \n",
       "3      0     315154   8.6625   NaN        S  \n",
       "4      1    3101298  12.2875   NaN        S  \n",
       "5      0       7538   9.2250   NaN        S  \n",
       "6      0     330972   7.6292   NaN        Q  \n",
       "7      1     248738  29.0000   NaN        S  \n",
       "8      0       2657   7.2292   NaN        C  \n",
       "9      0  A/4 48871  24.1500   NaN        S  "
      ]
     },
     "execution_count": 31,
     "metadata": {},
     "output_type": "execute_result"
    }
   ],
   "source": [
    "valid_data = pd.read_csv(\"test.csv\")\n",
    "valid_target = pd.read_csv(\"gender_submission.csv\")\n",
    "\n",
    "test = valid_data.merge(\n",
    "    right=valid_target,\n",
    "    on=\"PassengerId\",\n",
    "    how=\"outer\"\n",
    ")\n",
    "\n",
    "y_valid = test[\"Survived\"]\n",
    "X_valid = test.drop(columns=[\"PassengerId\", \"Survived\"])\n",
    "X_valid.head(10)"
   ]
  },
  {
   "cell_type": "code",
   "execution_count": 32,
   "id": "59c7714d",
   "metadata": {},
   "outputs": [
    {
     "name": "stdout",
     "output_type": "stream",
     "text": [
      "ROC-AUC Score is 0.9694548872180451\n"
     ]
    },
    {
     "data": {
      "image/png": "[encoded data removed]",
      "text/plain": [
       "<Figure size 640x480 with 1 Axes>"
      ]
     },
     "metadata": {},
     "output_type": "display_data"
    }
   ],
   "source": [
    "X_valid_ = preprocessing.fit_transform(X_valid[[\"Pclass\", \"Sex\", \"Age\", \"SibSp\", \"Parch\", \"Fare\", \"Cabin\", \"Embarked\"]])\n",
    "\n",
    "y_valid_pred_ = model.predict(X_valid_)\n",
    "fpr_valid, tpr_valid, thresholds_valid = roc_curve(y_valid, model.decision_function(X_valid_))\n",
    "\n",
    "plt.plot(fpr_valid, tpr_valid)\n",
    "plt.title(\"ROC Кривая\")\n",
    "plt.xlabel(\"Доля ложноположительных классификаций\")\n",
    "plt.ylabel(\"Доля истинно положительных классификаций\")\n",
    "\n",
    "print(f\"ROC-AUC Score is {roc_auc_score(y_valid, y_valid_pred_)}\")"
   ]
  },
  {
   "cell_type": "markdown",
   "id": "f4064cbb",
   "metadata": {},
   "source": [
    "# Статус\n",
    "1. Решётчатый поиск с перекрёстной проверкой: найдены оптимальные гиперпараметры.\n",
    "2. Оценка качества модели: Использовалась метрика ROC-AUC (как наиболее подходящая для бинарной классификации). Результат 75-78% на тестовом наборе и 95% на проверочном наборе демонстрирует хороший результат и хорошую обобщаемость модели."
   ]
  },
  {
   "cell_type": "markdown",
   "id": "04153657",
   "metadata": {},
   "source": [
    "# 4. Сохранение модели"
   ]
  },
  {
   "cell_type": "code",
   "execution_count": 33,
   "id": "f60206f2",
   "metadata": {},
   "outputs": [],
   "source": [
    "with open(\"models/svm-model.pkl\", \"wb\") as file:\n",
    "    pickle.dump(model, file)"
   ]
  }
 ],
 "metadata": {
  "kernelspec": {
   "display_name": "Python 3 (ipykernel)",
   "language": "python",
   "name": "python3"
  },
  "language_info": {
   "codemirror_mode": {
    "name": "ipython",
    "version": 3
   },
   "file_extension": ".py",
   "mimetype": "text/x-python",
   "name": "python",
   "nbconvert_exporter": "python",
   "pygments_lexer": "ipython3",
   "version": "3.8.10"
  }
 },
 "nbformat": 4,
 "nbformat_minor": 5
}
